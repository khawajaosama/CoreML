{
 "cells": [
  {
   "cell_type": "code",
   "execution_count": 1,
   "metadata": {},
   "outputs": [
    {
     "name": "stderr",
     "output_type": "stream",
     "text": [
      "C:\\Users\\Khawaja_Osama\\AppData\\Local\\Programs\\Python\\Python36\\lib\\site-packages\\h5py\\__init__.py:36: FutureWarning: Conversion of the second argument of issubdtype from `float` to `np.floating` is deprecated. In future, it will be treated as `np.float64 == np.dtype(float).type`.\n",
      "  from ._conv import register_converters as _register_converters\n",
      "Using TensorFlow backend.\n"
     ]
    },
    {
     "name": "stdout",
     "output_type": "stream",
     "text": [
      "Epoch 1/5\n",
      "60000/60000 [==============================] - 6s 108us/step - loss: 0.2875 - acc: 0.9185\n",
      "Epoch 2/5\n",
      "60000/60000 [==============================] - 6s 104us/step - loss: 0.1171 - acc: 0.9649\n",
      "Epoch 3/5\n",
      "60000/60000 [==============================] - 6s 97us/step - loss: 0.0777 - acc: 0.9765\n",
      "Epoch 4/5\n",
      "60000/60000 [==============================] - 5s 88us/step - loss: 0.0570 - acc: 0.9831\n",
      "Epoch 5/5\n",
      "60000/60000 [==============================] - 6s 96us/step - loss: 0.0427 - acc: 0.9865\n"
     ]
    },
    {
     "data": {
      "text/plain": [
       "<keras.callbacks.History at 0x166eb740a20>"
      ]
     },
     "execution_count": 1,
     "metadata": {},
     "output_type": "execute_result"
    }
   ],
   "source": [
    "import keras,tensorflow\n",
    "from keras import layers,models\n",
    "from keras.models import load_model\n",
    "from keras.datasets import mnist\n",
    "from keras.utils import to_categorical\n",
    "(train_data,train_targets),(test_data,test_targets)=mnist.load_data()\n",
    "model=models.Sequential()\n",
    "model.add(layers.Dense(512,activation='relu',input_shape=(28*28,)))\n",
    "model.add(layers.Dense(10,activation='sigmoid'))\n",
    "model.compile(loss='categorical_crossentropy',optimizer='rmsprop',metrics=['accuracy'])\n",
    "train_data=train_data.reshape((60000,28*28)).astype('float32')/255\n",
    "test_data=test_data.reshape((10000,28*28)).astype('float32')/255\n",
    "train_targets=to_categorical(train_targets)\n",
    "test_targets=to_categorical(test_targets)\n",
    "model.fit(train_data, train_targets, epochs=5, batch_size=128)"
   ]
  },
  {
   "cell_type": "code",
   "execution_count": null,
   "metadata": {},
   "outputs": [],
   "source": [
    "import keras,tensorflow\n",
    "!pip install keras\n",
    "!pip install coremltools\n",
    "from keras import layers,models\n",
    "from keras.models import load_model\n",
    "from keras.datasets import mnist\n",
    "from keras.utils import to_categorical\n",
    "import coremltools\n",
    "from google.colab import files\n",
    "import tensorflow as tf\n",
    "import timeit\n",
    "from google.colab import auth\n",
    "from oauth2client.client import GoogleCredentials\n",
    "\n",
    "(train_data,train_targets),(test_data,test_targets)=mnist.load_data()\n",
    "model=models.Sequential()\n",
    "model.add(layers.Dense(512,activation='relu',input_shape=(28*28,)))\n",
    "model.add(layers.Dense(10,activation='sigmoid'))\n",
    "model.compile(loss='categorical_crossentropy',optimizer='rmsprop',metrics=['accuracy'])\n",
    "train_data=train_data.reshape((60000,28*28)).astype('float32')/255\n",
    "test_data=test_data.reshape((10000,28*28)).astype('float32')/255\n",
    "train_targets=to_categorical(train_targets)\n",
    "test_targets=to_categorical(test_targets)\n",
    "model.fit(train_data, train_targets, epochs=5, batch_size=128)\n",
    "test_loss,test_acc=model.evaluate(test_data,test_targets)\n",
    "print('test_loss',test_acc)\n",
    "model.save('my_model.h5')\n",
    "!pip install -U -q PyDrive\n",
    "\n",
    "from pydrive.auth import GoogleAuth\n",
    "from pydrive.drive import GoogleDrive\n",
    "\n",
    "config = tf.ConfigProto()\n",
    "config.gpu_options.allow_growth = True\n",
    "\n",
    "# Authenticate and create the PyDrive client.\n",
    "auth.authenticate_user()\n",
    "gauth = GoogleAuth()\n",
    "gauth.credentials = GoogleCredentials.get_application_default()\n",
    "drive = GoogleDrive(gauth)\n",
    "file_list = drive.ListFile({'q': \"'root' in parents and trashed=false\"}).GetList()\n",
    "for file1 in file_list:\n",
    "    print('title: %s, id: %s' % (file1['title'], file1['id']))\n",
    "\n",
    "files.download('my_model.h5')\n",
    "#coreml_model=keras.models.load_model('my_model.h5')\n",
    "core_ml=coremltools.converters.keras.convert('my_model.h5')\n",
    "core_ml.save('coreml_model.mlmodel')\n",
    "files.download('coreml_model.mlmodel')"
   ]
  }
 ],
 "metadata": {
  "kernelspec": {
   "display_name": "Python 3",
   "language": "python",
   "name": "python3"
  },
  "language_info": {
   "codemirror_mode": {
    "name": "ipython",
    "version": 3
   },
   "file_extension": ".py",
   "mimetype": "text/x-python",
   "name": "python",
   "nbconvert_exporter": "python",
   "pygments_lexer": "ipython3",
   "version": "3.6.3"
  }
 },
 "nbformat": 4,
 "nbformat_minor": 2
}
